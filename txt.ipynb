{
 "cells": [
  {
   "cell_type": "code",
   "execution_count": 1,
   "metadata": {},
   "outputs": [],
   "source": [
    "import pandas as pd\n",
    "import matplotlib.pyplot as plt\n",
    "import numpy as np\n",
    "\n",
    "import mne\n",
    "import scipy.signal as signal\n",
    "\n",
    "\n",
    "\n",
    "import tensorflow as tf\n",
    "from tensorflow.keras.models import Sequential\n",
    "from tensorflow.keras.layers import LSTM, Dense\n",
    "from sklearn.model_selection import train_test_split\n",
    "from sklearn.preprocessing import MinMaxScaler\n",
    "\n",
    "\n",
    "from sklearn.svm import SVC  # SVM classifier\n",
    "from sklearn.metrics import accuracy_score, classification_report"
   ]
  },
  {
   "cell_type": "code",
   "execution_count": 2,
   "metadata": {},
   "outputs": [
    {
     "name": "stdout",
     "output_type": "stream",
     "text": [
      "Index(['Date', ' Time', ' Recording onset', ' Duration', ' Annotation',\n",
      "       ' Linked channel'],\n",
      "      dtype='object')\n",
      " Sleep stage W\n",
      "[' Sleep stage W' ' Lights off' ' Sleep stage N1' ' Sleep stage N2'\n",
      " ' Sleep stage N3' ' Sleep stage R' ' Lights on']\n"
     ]
    }
   ],
   "source": [
    "file = pd.read_csv(r\"D:\\Clg\\Project\\SDP 2\\dataset\\16\\physionet.org\\files\\hmc-sleep-staging\\1.0.0\\recordings\\SN001_sleepscoring.txt\")\n",
    "\n",
    "# print(file.shape[0])\n",
    "# print(file.head())\n",
    "print(file.columns)\n",
    "print(file[\" Annotation\"][0])\n",
    "\n",
    "print(file[' Annotation'].unique())\n"
   ]
  },
  {
   "cell_type": "code",
   "execution_count": 6,
   "metadata": {},
   "outputs": [
    {
     "name": "stdout",
     "output_type": "stream",
     "text": [
      "Extracting EDF parameters from D:\\Clg\\Project\\SDP 2\\dataset\\16\\physionet.org\\files\\hmc-sleep-staging\\1.0.0\\recordings\\SN001.edf...\n",
      "EDF file detected\n",
      "Setting channel info structure...\n",
      "Creating raw.info structure...\n",
      "Reading 0 ... 6566399  =      0.000 ... 25649.996 secs...\n"
     ]
    },
    {
     "name": "stderr",
     "output_type": "stream",
     "text": [
      "C:\\Users\\R MOHANAKRISHNAA\\AppData\\Local\\Temp\\ipykernel_14880\\470614150.py:15: RuntimeWarning: Channels contain different highpass filters. Highest filter setting will be stored.\n",
      "  edf_file = mne.io.read_raw_edf(path + edf_file_name, preload= True)\n",
      "C:\\Users\\R MOHANAKRISHNAA\\AppData\\Local\\Temp\\ipykernel_14880\\470614150.py:15: RuntimeWarning: Channels contain different lowpass filters. Lowest filter setting will be stored.\n",
      "  edf_file = mne.io.read_raw_edf(path + edf_file_name, preload= True)\n"
     ]
    },
    {
     "name": "stdout",
     "output_type": "stream",
     "text": [
      "1\n"
     ]
    }
   ],
   "source": [
    "text_files = []\n",
    "edf_files = []\n",
    "target_map = {'W' : 1, 'N1' : 2, 'N2' : 3, 'N3' : 4, 'R' : 5}\n",
    "no_of_files = 1\n",
    "\n",
    "path = r\"D:\\Clg\\Project\\SDP 2\\dataset\\16\\physionet.org\\files\\hmc-sleep-staging\\1.0.0\\recordings\"\n",
    "\n",
    "for i in range(1, no_of_files+1):\n",
    "    text_file_name = f\"\\SN00{i}_sleepscoring.txt\"\n",
    "    edf_file_name = f\"\\SN00{i}.edf\"\n",
    "\n",
    "    txt_file = pd.read_csv(path + text_file_name)\n",
    "    text_files.append(txt_file)\n",
    "\n",
    "    edf_file = mne.io.read_raw_edf(path + edf_file_name, preload= True)\n",
    "    \n",
    "    edf_file = edf_file.pick(['EEG C4-M1'])\n",
    "\n",
    "    time = edf_file.times[-1] - 150\n",
    "    s, e = 0 + 150, 30 + 150\n",
    "    idx = 0 + 5\n",
    "\n",
    "    dic = {}\n",
    "\n",
    "    while e < time and idx < txt_file.shape[0]:\n",
    "        stage = txt_file[\" Annotation\"][idx].split(\" \")[-1]\n",
    "\n",
    "        if stage in target_map:\n",
    "            dic[s] = [edf_file.copy().crop(tmin=s, tmax=e), stage]\n",
    "        idx += 1\n",
    "        s = e\n",
    "        e += 30\n",
    "\n",
    "    edf_files.append(dic)\n",
    "\n",
    "print(len(text_files))"
   ]
  },
  {
   "cell_type": "markdown",
   "metadata": {},
   "source": [
    "Delta band extraction"
   ]
  },
  {
   "cell_type": "code",
   "execution_count": 18,
   "metadata": {},
   "outputs": [
    {
     "name": "stdout",
     "output_type": "stream",
     "text": [
      "(array([[-2.22346149e-21,  9.49938352e-08,  1.91689710e-07, ...,\n",
      "         7.30107848e-07,  3.67196564e-07, -3.70576914e-22]]), array([0.00000000e+00, 3.90625000e-03, 7.81250000e-03, ...,\n",
      "       2.99921875e+01, 2.99960938e+01, 3.00000000e+01]))\n"
     ]
    },
    {
     "ename": "AttributeError",
     "evalue": "'tuple' object has no attribute 'get_data'",
     "output_type": "error",
     "traceback": [
      "\u001b[1;31m---------------------------------------------------------------------------\u001b[0m",
      "\u001b[1;31mAttributeError\u001b[0m                            Traceback (most recent call last)",
      "Cell \u001b[1;32mIn[18], line 10\u001b[0m\n\u001b[0;32m      8\u001b[0m \u001b[38;5;28mprint\u001b[39m(bands[\u001b[38;5;241m0\u001b[39m])\n\u001b[0;32m      9\u001b[0m \u001b[38;5;28;01mfor\u001b[39;00m band \u001b[38;5;129;01min\u001b[39;00m bands:\n\u001b[1;32m---> 10\u001b[0m     temp \u001b[38;5;241m=\u001b[39m \u001b[43mband\u001b[49m\u001b[38;5;241;43m.\u001b[39;49m\u001b[43mget_data\u001b[49m()[\u001b[38;5;241m0\u001b[39m]\n\u001b[0;32m     12\u001b[0m     \u001b[38;5;28mprint\u001b[39m(temp, \u001b[38;5;28mlen\u001b[39m(temp), \u001b[38;5;124m'\u001b[39m\u001b[38;5;130;01m\\n\u001b[39;00m\u001b[38;5;124m'\u001b[39m)\n",
      "\u001b[1;31mAttributeError\u001b[0m: 'tuple' object has no attribute 'get_data'"
     ]
    }
   ],
   "source": [
    "mne.set_log_level(\"warning\")\n",
    "\n",
    "def _filter(_signal):\n",
    "    delta_band = _signal.copy().filter(0.5, 4, fir_design='firwin')\n",
    "    return delta_band\n",
    "\n",
    "bands = _filter(dic[150][0])\n",
    "print(bands[0])\n",
    "for band in bands:\n",
    "    temp = band.get_data()[0]\n",
    "\n",
    "    print(temp, len(temp), '\\n')"
   ]
  },
  {
   "cell_type": "code",
   "execution_count": null,
   "metadata": {},
   "outputs": [],
   "source": []
  },
  {
   "cell_type": "code",
   "execution_count": 8,
   "metadata": {},
   "outputs": [
    {
     "name": "stdout",
     "output_type": "stream",
     "text": [
      "(array([[-2.22346149e-21,  9.49938352e-08,  1.91689710e-07, ...,\n",
      "         7.30107848e-07,  3.67196564e-07, -3.70576914e-22]]), array([0.00000000e+00, 3.90625000e-03, 7.81250000e-03, ...,\n",
      "       2.99921875e+01, 2.99960938e+01, 3.00000000e+01]))\n",
      "[[-2.22346149e-21  9.49938352e-08  1.91689710e-07 ...  7.30107848e-07\n",
      "   3.67196564e-07 -3.70576914e-22]]\n",
      "\n"
     ]
    }
   ],
   "source": [
    "# target_map = {'N1' : }\n",
    "\n",
    "\n",
    "delta_band , target, delta_band_3d, target_3d = [], [], [], []\n",
    "\n",
    "for i in range(len(edf_files)): \n",
    "    dic = edf_files[i]\n",
    "    for idx, val in dic.items():\n",
    "\n",
    "        temp = _filter(val[0])\n",
    "        \n",
    "        delta_band_3d.append([temp[0][0][0], temp[0][1]])\n",
    "        \n",
    "        if idx == 150:\n",
    "            print(temp[0])\n",
    "            print(temp[0][0])\n",
    "            print()\n",
    "        \n",
    "        delta_band.append(temp[0][0][0])\n",
    "        delta_band.append(temp[0][1])\n",
    "        target.append(target_map[val[1]])\n",
    "        target.append(target_map[val[1]])\n",
    "        target_3d.append(target_map[val[1]])\n",
    "# print(target)\n",
    "\n"
   ]
  },
  {
   "cell_type": "code",
   "execution_count": 9,
   "metadata": {},
   "outputs": [],
   "source": [
    "# ! pip install tenserflow"
   ]
  },
  {
   "cell_type": "markdown",
   "metadata": {},
   "source": [
    "LSTM model"
   ]
  },
  {
   "cell_type": "markdown",
   "metadata": {},
   "source": [
    "EDA"
   ]
  },
  {
   "cell_type": "code",
   "execution_count": 10,
   "metadata": {},
   "outputs": [
    {
     "name": "stdout",
     "output_type": "stream",
     "text": [
      "(1688, 7681)\n",
      "(1688,)\n",
      "(844, 2, 7681)\n",
      "(844,)\n",
      "-0.0009147727161124097\n",
      "30.0\n",
      "Number of values between -1 and 4: 7347864\n",
      "Number of values between 5 and 10: 1081164\n",
      "Number of values between 10 and 30: 4322124\n"
     ]
    }
   ],
   "source": [
    "delta_band_3d = np.array(delta_band_3d)\n",
    "delta_band = np.array(delta_band)\n",
    "target = np.array(target)\n",
    "target_3d = np.array(target_3d)\n",
    "\n",
    "print(delta_band.shape)\n",
    "print(target.shape)\n",
    "print(delta_band_3d.shape)\n",
    "print(target_3d.shape)\n",
    "\n",
    "print(np.min(delta_band_3d))\n",
    "print(np.max(delta_band_3d))\n",
    "\n",
    "\n",
    "flattened_array = delta_band_3d.flatten()\n",
    "\n",
    "# Define the ranges\n",
    "range1_lower, range1_upper = -1, 4\n",
    "range2_lower, range2_upper = 5, 10\n",
    "range3_lower, range3_upper = 10, 30\n",
    "\n",
    "# Count the number of elements in each range\n",
    "count_range1 = np.sum((flattened_array >= range1_lower) & (flattened_array <= range1_upper))\n",
    "count_range2 = np.sum((flattened_array >= range2_lower) & (flattened_array <= range2_upper))\n",
    "count_range3 = np.sum((flattened_array >= range3_lower) & (flattened_array <= range3_upper))\n",
    "\n",
    "print(f\"Number of values between {range1_lower} and {range1_upper}: {count_range1}\")\n",
    "print(f\"Number of values between {range2_lower} and {range2_upper}: {count_range2}\")\n",
    "print(f\"Number of values between {range3_lower} and {range3_upper}: {count_range3}\")"
   ]
  },
  {
   "cell_type": "markdown",
   "metadata": {},
   "source": [
    "Normalization"
   ]
  },
  {
   "cell_type": "code",
   "execution_count": 11,
   "metadata": {},
   "outputs": [
    {
     "name": "stdout",
     "output_type": "stream",
     "text": [
      "[[[-0.77455633 -0.77455632 -0.77455631 ... -0.77455625 -0.77455629\n",
      "   -0.77455633]\n",
      "  [-0.77455633 -0.77415291 -0.7737495  ...  2.32286216  2.32326557\n",
      "    2.32366899]]\n",
      "\n",
      " [[-0.77455633 -0.77455623 -0.77455613 ... -0.77455651 -0.77455642\n",
      "   -0.77455633]\n",
      "  [-0.77455633 -0.77415291 -0.7737495  ...  2.32286216  2.32326557\n",
      "    2.32366899]]\n",
      "\n",
      " [[-0.77455633 -0.77455644 -0.77455654 ... -0.77455641 -0.77455637\n",
      "   -0.77455633]\n",
      "  [-0.77455633 -0.77415291 -0.7737495  ...  2.32286216  2.32326557\n",
      "    2.32366899]]\n",
      "\n",
      " ...\n",
      "\n",
      " [[-0.77455633 -0.77455644 -0.77455654 ... -0.77455654 -0.77455644\n",
      "   -0.77455633]\n",
      "  [-0.77455633 -0.77415291 -0.7737495  ...  2.32286216  2.32326557\n",
      "    2.32366899]]\n",
      "\n",
      " [[-0.77455633 -0.77455648 -0.77455662 ... -0.77455646 -0.77455639\n",
      "   -0.77455633]\n",
      "  [-0.77455633 -0.77415291 -0.7737495  ...  2.32286216  2.32326557\n",
      "    2.32366899]]\n",
      "\n",
      " [[-0.77455633 -0.77455636 -0.77455639 ... -0.77455655 -0.77455644\n",
      "   -0.77455633]\n",
      "  [-0.77455633 -0.77415291 -0.7737495  ...  2.32286216  2.32326557\n",
      "    2.32366899]]]\n"
     ]
    }
   ],
   "source": [
    "mean = np.mean(delta_band_3d)\n",
    "std = np.std(delta_band_3d)\n",
    "\n",
    "# Z-score normalization\n",
    "z_normalized = (delta_band_3d - mean) / std\n",
    "\n",
    "print(z_normalized)"
   ]
  },
  {
   "cell_type": "code",
   "execution_count": 12,
   "metadata": {},
   "outputs": [
    {
     "data": {
      "image/png": "[encoded data removed]",
      "text/plain": [
       "<Figure size 1200x800 with 1 Axes>"
      ]
     },
     "metadata": {},
     "output_type": "display_data"
    }
   ],
   "source": [
    "# Assuming delta_band_3d is a 3D numpy array\n",
    "z_normalized_flattened = z_normalized.flatten()\n",
    "\n",
    "plt.figure(figsize=(12, 8))\n",
    "plt.boxplot(z_normalized_flattened)  # You can adjust the number of bins\n",
    "plt.title('Histogram of Flattened 3D Data')\n",
    "plt.xlabel('Value')\n",
    "plt.ylabel('Frequency')\n",
    "plt.show()\n"
   ]
  },
  {
   "cell_type": "code",
   "execution_count": 19,
   "metadata": {},
   "outputs": [
    {
     "name": "stdout",
     "output_type": "stream",
     "text": [
      "(169, 2, 7681) (675, 2, 7681)\n",
      "(169,) (675,)\n",
      "Epoch 1/10\n",
      "22/22 [==============================] - 4s 58ms/step - loss: -788.4587 - accuracy: 0.1585 - val_loss: -1770.1635 - val_accuracy: 0.2012\n",
      "Epoch 2/10\n",
      "22/22 [==============================] - 1s 36ms/step - loss: -3300.6707 - accuracy: 0.1585 - val_loss: -4791.4990 - val_accuracy: 0.2012\n",
      "Epoch 3/10\n",
      "22/22 [==============================] - 1s 36ms/step - loss: -7507.7568 - accuracy: 0.1585 - val_loss: -9870.8447 - val_accuracy: 0.2012\n",
      "Epoch 4/10\n",
      "22/22 [==============================] - 1s 34ms/step - loss: -14432.8477 - accuracy: 0.1585 - val_loss: -17902.8848 - val_accuracy: 0.2012\n",
      "Epoch 5/10\n",
      "22/22 [==============================] - 1s 32ms/step - loss: -25021.1680 - accuracy: 0.1585 - val_loss: -30018.8145 - val_accuracy: 0.2012\n",
      "Epoch 6/10\n",
      "22/22 [==============================] - 1s 32ms/step - loss: -40767.6641 - accuracy: 0.1585 - val_loss: -47305.3828 - val_accuracy: 0.2012\n",
      "Epoch 7/10\n",
      "22/22 [==============================] - 1s 33ms/step - loss: -62564.5195 - accuracy: 0.1585 - val_loss: -70698.1094 - val_accuracy: 0.2012\n",
      "Epoch 8/10\n",
      "22/22 [==============================] - 1s 34ms/step - loss: -91355.3750 - accuracy: 0.1585 - val_loss: -101312.8750 - val_accuracy: 0.2012\n",
      "Epoch 9/10\n",
      "22/22 [==============================] - 1s 33ms/step - loss: -128998.4922 - accuracy: 0.1585 - val_loss: -140838.3594 - val_accuracy: 0.2012\n",
      "Epoch 10/10\n",
      "22/22 [==============================] - 1s 31ms/step - loss: -174849.7500 - accuracy: 0.1585 - val_loss: -188849.9844 - val_accuracy: 0.2012\n",
      "6/6 - 0s - loss: -1.8885e+05 - accuracy: 0.2012 - 48ms/epoch - 8ms/step\n",
      "\n",
      "Test accuracy: 0.2012\n",
      "6/6 [==============================] - 0s 5ms/step\n",
      "\n",
      "Example Predictions: [[1.]\n",
      " [1.]\n",
      " [1.]\n",
      " [1.]\n",
      " [1.]]\n"
     ]
    }
   ],
   "source": [
    "# Split the dataset into training and testing sets\n",
    "X_train, X_test, y_train, y_test = train_test_split(z_normalized, target_3d, test_size=0.2, random_state=42)\n",
    "\n",
    "print(X_test.shape, X_train.shape)\n",
    "print(y_test.shape, y_train.shape)\n",
    "\n",
    "\n",
    "# Define the LSTM model\n",
    "model = Sequential()\n",
    "model.add(LSTM(50, activation='relu', input_shape=(X_train.shape[1], X_train.shape[2])))\n",
    "model.add(Dense(1, activation='sigmoid'))  # Output layer for binary classification\n",
    "\n",
    "# Compile the model\n",
    "model.compile(optimizer='adam', loss='binary_crossentropy', metrics=['accuracy'])\n",
    "\n",
    "# Train the model\n",
    "history = model.fit(X_train, y_train, epochs=10, batch_size=32, validation_data=(X_test, y_test))\n",
    "\n",
    "# Evaluate the model on test data\n",
    "test_loss, test_acc = model.evaluate(X_test, y_test, verbose=2)\n",
    "print(f'\\nTest accuracy: {test_acc:.4f}')\n",
    "\n",
    "# Making predictions\n",
    "predictions = model.predict(X_test)\n",
    "\n",
    "# Example output\n",
    "print(f'\\nExample Predictions: {predictions[:5]}')\n"
   ]
  },
  {
   "cell_type": "markdown",
   "metadata": {},
   "source": [
    "SVR model"
   ]
  },
  {
   "cell_type": "code",
   "execution_count": 14,
   "metadata": {},
   "outputs": [
    {
     "name": "stdout",
     "output_type": "stream",
     "text": [
      "Accuracy: 51.18%\n",
      "Classification Report:\n",
      "              precision    recall  f1-score   support\n",
      "\n",
      "           1       0.00      0.00      0.00        60\n",
      "           2       0.00      0.00      0.00        54\n",
      "           3       0.51      1.00      0.68       173\n",
      "           4       0.00      0.00      0.00         6\n",
      "           5       0.00      0.00      0.00        45\n",
      "\n",
      "    accuracy                           0.51       338\n",
      "   macro avg       0.10      0.20      0.14       338\n",
      "weighted avg       0.26      0.51      0.35       338\n",
      "\n"
     ]
    },
    {
     "name": "stderr",
     "output_type": "stream",
     "text": [
      "C:\\Users\\R MOHANAKRISHNAA\\AppData\\Roaming\\Python\\Python311\\site-packages\\sklearn\\metrics\\_classification.py:1344: UndefinedMetricWarning: Precision and F-score are ill-defined and being set to 0.0 in labels with no predicted samples. Use `zero_division` parameter to control this behavior.\n",
      "  _warn_prf(average, modifier, msg_start, len(result))\n",
      "C:\\Users\\R MOHANAKRISHNAA\\AppData\\Roaming\\Python\\Python311\\site-packages\\sklearn\\metrics\\_classification.py:1344: UndefinedMetricWarning: Precision and F-score are ill-defined and being set to 0.0 in labels with no predicted samples. Use `zero_division` parameter to control this behavior.\n",
      "  _warn_prf(average, modifier, msg_start, len(result))\n",
      "C:\\Users\\R MOHANAKRISHNAA\\AppData\\Roaming\\Python\\Python311\\site-packages\\sklearn\\metrics\\_classification.py:1344: UndefinedMetricWarning: Precision and F-score are ill-defined and being set to 0.0 in labels with no predicted samples. Use `zero_division` parameter to control this behavior.\n",
      "  _warn_prf(average, modifier, msg_start, len(result))\n"
     ]
    }
   ],
   "source": [
    "# Split the dataset into training and testing sets\n",
    "X_train, X_test, y_train, y_test = train_test_split(delta_band, target, test_size=0.2, random_state=42)\n",
    "\n",
    "# Create and train the SVM model (linear kernel)\n",
    "model = SVC(kernel='linear')\n",
    "\n",
    "# Fit the model on training data\n",
    "model.fit(X_train, y_train)\n",
    "\n",
    "# Make predictions on the test data\n",
    "y_pred = model.predict(X_test)\n",
    "\n",
    "# Evaluate the model\n",
    "accuracy = accuracy_score(y_test, y_pred)\n",
    "report = classification_report(y_test, y_pred)\n",
    "\n",
    "# Print results\n",
    "print(f\"Accuracy: {accuracy * 100:.2f}%\")\n",
    "print(\"Classification Report:\")\n",
    "print(report)"
   ]
  },
  {
   "cell_type": "code",
   "execution_count": 15,
   "metadata": {},
   "outputs": [
    {
     "name": "stdout",
     "output_type": "stream",
     "text": [
      "Accuracy: 51.18%\n",
      "Feature Importances: [0.00000000e+00 2.26721542e-05 1.62228080e-04 ... 2.36516692e-04\n",
      " 1.98012297e-04 0.00000000e+00]\n"
     ]
    }
   ],
   "source": [
    "from sklearn.ensemble import RandomForestClassifier\n",
    "from sklearn.model_selection import train_test_split\n",
    "from sklearn.datasets import load_iris\n",
    "from sklearn.metrics import accuracy_score\n",
    "\n",
    "# Load dataset (Iris dataset as an example)\n",
    "data = load_iris()\n",
    "X = data.data  # Features\n",
    "y = data.target  # Target (classes)\n",
    "\n",
    "# Split the data into training and test sets\n",
    "X_train, X_test, y_train, y_test = train_test_split(delta_band, target, test_size=0.2, random_state=42)\n",
    "\n",
    "# Initialize the Random Forest classifier\n",
    "clf = RandomForestClassifier(n_estimators=100, random_state=42)\n",
    "\n",
    "# Train the model\n",
    "clf.fit(X_train, y_train)\n",
    "\n",
    "# Make predictions on the test set\n",
    "y_pred = clf.predict(X_test)\n",
    "\n",
    "# Calculate accuracy\n",
    "accuracy = accuracy_score(y_test, y_pred)\n",
    "print(f'Accuracy: {accuracy * 100:.2f}%')\n",
    "\n",
    "# Feature importance\n",
    "importances = clf.feature_importances_\n",
    "print(f'Feature Importances: {importances}')\n"
   ]
  },
  {
   "cell_type": "code",
   "execution_count": null,
   "metadata": {},
   "outputs": [],
   "source": []
  }
 ],
 "metadata": {
  "kernelspec": {
   "display_name": "Python 3",
   "language": "python",
   "name": "python3"
  },
  "language_info": {
   "codemirror_mode": {
    "name": "ipython",
    "version": 3
   },
   "file_extension": ".py",
   "mimetype": "text/x-python",
   "name": "python",
   "nbconvert_exporter": "python",
   "pygments_lexer": "ipython3",
   "version": "3.11.3"
  }
 },
 "nbformat": 4,
 "nbformat_minor": 2
}
